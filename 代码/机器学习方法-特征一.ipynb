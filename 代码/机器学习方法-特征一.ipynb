{
 "cells": [
  {
   "cell_type": "markdown",
   "metadata": {},
   "source": [
    "# 机器学习方法\n",
    "## 特征一：文本相似度计算"
   ]
  },
  {
   "cell_type": "code",
   "execution_count": 150,
   "metadata": {},
   "outputs": [],
   "source": [
    "import pandas as pd\n",
    "import numpy as np\n",
    "import gensim\n",
    "import nltk\n",
    "from nltk.corpus import stopwords\n",
    "from nltk.tokenize import word_tokenize\n",
    "import jieba\n",
    "import jieba.analyse\n",
    "import matplotlib.pyplot as plt"
   ]
  },
  {
   "cell_type": "markdown",
   "metadata": {},
   "source": [
    "### 读取提前下载好的Glove词向量，这里采用的是glove.6B.50d，每一个单词用50维的词向量表示"
   ]
  },
  {
   "cell_type": "code",
   "execution_count": 47,
   "metadata": {},
   "outputs": [],
   "source": [
    "#读取glove词向量并存储在字典中\n",
    "word_vector={}\n",
    "with open('glove.txt','r',encoding='utf—8') as glove: \n",
    "    for line in glove.readlines():\n",
    "        line = list(line.split())\n",
    "        word_vector[line[0]]=np.array(line[1:],dtype=float).reshape(1,50)"
   ]
  },
  {
   "cell_type": "code",
   "execution_count": 165,
   "metadata": {},
   "outputs": [
    {
     "name": "stdout",
     "output_type": "stream",
     "text": [
      "king的词向量：\n",
      "<class 'numpy.ndarray'>\n",
      "[[ 0.50451   0.68607  -0.59517  -0.022801  0.60046  -0.13498  -0.08813\n",
      "   0.47377  -0.61798  -0.31012  -0.076666  1.493    -0.034189 -0.98173\n",
      "   0.68229   0.81722  -0.51874  -0.31503  -0.55809   0.66421   0.1961\n",
      "  -0.13495  -0.11476  -0.30344   0.41177  -2.223    -1.0756   -1.0783\n",
      "  -0.34354   0.33505   1.9927   -0.04234  -0.64319   0.71125   0.49159\n",
      "   0.16754   0.34344  -0.25663  -0.8523    0.1661    0.40102   1.1685\n",
      "  -1.0137   -0.21585  -0.15155   0.78321  -0.91241  -1.6106   -0.64426\n",
      "  -0.51042 ]]\n"
     ]
    }
   ],
   "source": [
    "print(\"king的词向量：\")\n",
    "king_vector=word_vector['king']\n",
    "print(type(king_vector))\n",
    "print(king_vector)"
   ]
  },
  {
   "cell_type": "markdown",
   "metadata": {},
   "source": [
    "### 读取数据并加载停用词表"
   ]
  },
  {
   "cell_type": "code",
   "execution_count": 6,
   "metadata": {},
   "outputs": [],
   "source": [
    "stop_words = set(stopwords.words('english'))\n",
    "train_data=pd.read_csv('train.csv')\n",
    "test_data=pd.read_csv('test.csv')"
   ]
  },
  {
   "cell_type": "code",
   "execution_count": 151,
   "metadata": {},
   "outputs": [
    {
     "name": "stdout",
     "output_type": "stream",
     "text": [
      "数据集信息：\n",
      "<class 'pandas.core.frame.DataFrame'>\n",
      "RangeIndex: 8000 entries, 0 to 7999\n",
      "Data columns (total 3 columns):\n",
      "label       8000 non-null int64\n",
      "question    8000 non-null object\n",
      "sentence    8000 non-null object\n",
      "dtypes: int64(1), object(2)\n",
      "memory usage: 187.6+ KB\n",
      "————————————————\n",
      "数据内容概览：\n",
      "得到样本：8000个\n",
      "得到测试样例：1600个\n"
     ]
    }
   ],
   "source": [
    "print(\"数据集信息：\")\n",
    "train_data.info()\n",
    "print(\"————————————————\")\n",
    "print(\"数据内容概览：\")\n",
    "train_data.head()\n",
    "print('得到样本：{}个'.format(train_data.shape[0]))\n",
    "print('得到测试样例：{}个'.format(test_data.shape[0]))"
   ]
  },
  {
   "cell_type": "markdown",
   "metadata": {},
   "source": [
    "### 定义对句子进行清洗的函数，过滤掉停用词和标点符号"
   ]
  },
  {
   "cell_type": "code",
   "execution_count": 22,
   "metadata": {},
   "outputs": [],
   "source": [
    "#传入的参数sentence是句子经过tokenize后的token组成的列表\n",
    "def clean_sentence(sentence):\n",
    "    sentence = filter(lambda x: len(x) > 1, sentence)\n",
    "    word_list=[]\n",
    "    for word in sentence:\n",
    "        word=word.lower()\n",
    "        if word not in stop_words:    #过滤没有意义停用词\n",
    "                if word != '\\t':\n",
    "                    word_list.append(word)\n",
    "    result=\" \".join(word_list)\n",
    "    return result"
   ]
  },
  {
   "cell_type": "markdown",
   "metadata": {},
   "source": [
    "### 利用nltk中的word_tokenize模块对question和sentence进行分词，利用jieba中的extract_tags模块提取关键词\n",
    "### question句子较短，提取3个关键词，sentence则提取10个关键词，这里的关键词个数都可以当成模型的超参数"
   ]
  },
  {
   "cell_type": "code",
   "execution_count": 153,
   "metadata": {},
   "outputs": [],
   "source": [
    "#处理训练集\n",
    "train_question_key_word_list=[]\n",
    "train_sentence_key_word_list=[]\n",
    "\n",
    "train_question_len_list=[]\n",
    "train_sentence_len_list=[]\n",
    "\n",
    "KEY_WORD_NUM_QUESTION=3\n",
    "KEY_WORD_NUM_SENTENCE=10\n",
    "for i,row in train_data.iterrows():\n",
    "    question_tokenized=word_tokenize(row['question'])\n",
    "    sentence_tokenized=word_tokenize(row['sentence'])\n",
    "    \n",
    "    train_question_len_list.append(len(question_tokenized))\n",
    "    train_sentence_len_list.append(len(sentence_tokenized))\n",
    "    \n",
    "    question_cleaned=clean_sentence(question_tokenized)\n",
    "    sentence_cleaned=clean_sentence(sentence_tokenized)\n",
    "\n",
    "    \n",
    "    question_key_word=jieba.analyse.extract_tags(question_cleaned,topK=KEY_WORD_NUM_QUESTION)\n",
    "    sentence_key_word=jieba.analyse.extract_tags(sentence_cleaned,topK=KEY_WORD_NUM_SENTENCE)\n",
    "    \n",
    "    train_question_key_word_list.append(question_key_word)\n",
    "    train_sentence_key_word_list.append(sentence_key_word)"
   ]
  },
  {
   "cell_type": "code",
   "execution_count": 154,
   "metadata": {},
   "outputs": [],
   "source": [
    "#处理测试集\n",
    "test_question_key_word_list=[]\n",
    "test_sentence_key_word_list=[]\n",
    "\n",
    "for i,row in test_data.iterrows():\n",
    "    question_tokenized=word_tokenize(row['question'])\n",
    "    sentence_tokenized=word_tokenize(row['sentence'])\n",
    "    \n",
    "    question_cleaned=clean_sentence(question_tokenized)\n",
    "    sentence_cleaned=clean_sentence(sentence_tokenized)\n",
    "\n",
    "    \n",
    "    question_key_word=jieba.analyse.extract_tags(question_cleaned,topK=KEY_WORD_NUM_QUESTION)\n",
    "    sentence_key_word=jieba.analyse.extract_tags(sentence_cleaned,topK=KEY_WORD_NUM_SENTENCE)\n",
    "    \n",
    "    test_question_key_word_list.append(question_key_word)\n",
    "    test_sentence_key_word_list.append(sentence_key_word)"
   ]
  },
  {
   "cell_type": "code",
   "execution_count": 156,
   "metadata": {},
   "outputs": [
    {
     "data": {
      "image/png": "[encoded data removed]",
      "text/plain": [
       "<Figure size 720x576 with 1 Axes>"
      ]
     },
     "metadata": {
      "needs_background": "light"
     },
     "output_type": "display_data"
    },
    {
     "data": {
      "image/png": "[encoded data removed]",
      "text/plain": [
       "<Figure size 432x288 with 1 Axes>"
      ]
     },
     "metadata": {
      "needs_background": "light"
     },
     "output_type": "display_data"
    }
   ],
   "source": [
    "#针对训练集中tokenize后的question和sentence长度绘制直方图\n",
    "plt.rcParams['font.sans-serif']=['SimHei']  #解决matplotlib无法显示中文字符的问题，设置字体为黑体\n",
    "plt.rcParams['axes.unicode_minus'] = False\n",
    "figure = plt.figure('直方图均衡化',figsize=(10,8))         \n",
    "plt.subplot(2,1,1) \n",
    "plt.hist(x = train_question_len_list, # 指定绘图数据\n",
    "          bins = 60, # 指定直方图中条块的个数\n",
    "          color = 'steelblue', # 指定直方图的填充色\n",
    "          edgecolor = 'black' # 指定直方图的边框色\n",
    "          )\n",
    "plt.title('训练集中question的长度的直方图')\n",
    "plt.show()\n",
    "plt.subplot(2,1,2) \n",
    "plt.hist(x = train_sentence_len_list, # 指定绘图数据\n",
    "          bins = 60, # 指定直方图中条块的个数\n",
    "          color = 'steelblue', # 指定直方图的填充色\n",
    "          edgecolor = 'black' # 指定直方图的边框色\n",
    "          )\n",
    "plt.title('训练集中sentence的长度的直方图')\n",
    "plt.show()"
   ]
  },
  {
   "cell_type": "markdown",
   "metadata": {},
   "source": [
    "### 定义余弦相似度计算函数，也可以利用from sklearn.metrics.pairwise import cosine_similarity"
   ]
  },
  {
   "cell_type": "code",
   "execution_count": 65,
   "metadata": {},
   "outputs": [],
   "source": [
    "def similarityCalu(vector1,vector2):\n",
    "    vector1Mod=np.sqrt(vector1.dot(vector1.T))\n",
    "    vector2Mod=np.sqrt(vector2.dot(vector2.T))\n",
    "    if(vector1Mod!=0 and vector2Mod!=0):\n",
    "        similarity=(vector1.dot(vector2.T))/(vector1Mod*vector2Mod)\n",
    "    else:\n",
    "        similarity=0\n",
    "    return similarity\n",
    "            "
   ]
  },
  {
   "cell_type": "code",
   "execution_count": 166,
   "metadata": {},
   "outputs": [
    {
     "name": "stdout",
     "output_type": "stream",
     "text": [
      "king和queen的相似度：\n",
      "[[0.7839043]]\n"
     ]
    }
   ],
   "source": [
    "queen_vector=word_vector['queen']\n",
    "print(\"king和queen的相似度：\")\n",
    "print(similarityCalu(king_vector,queen_vector))"
   ]
  },
  {
   "cell_type": "markdown",
   "metadata": {},
   "source": [
    "### 根据glove词向量，查找question和sentence中的关键词对应的词向量，求他们的平均值作为question和sentence的文本向量，并且计算相似度。运行时间可能较长。"
   ]
  },
  {
   "cell_type": "code",
   "execution_count": 67,
   "metadata": {},
   "outputs": [
    {
     "name": "stderr",
     "output_type": "stream",
     "text": [
      "E:\\Anaconda3\\lib\\site-packages\\ipykernel_launcher.py:21: RuntimeWarning: invalid value encountered in true_divide\n"
     ]
    }
   ],
   "source": [
    "#对训练集中的question和sentence转换为文本向量，并计算相似度。\n",
    "\n",
    "train_similarity_list=[]\n",
    "test_similarity_list=[]\n",
    "\n",
    "len_of_train_set=len(train_question_key_word_list)  #8000\n",
    "len_of_test_set=len(test_question_key_word_list)  #1600\n",
    "\n",
    "for i in range(len_of_train_set):\n",
    "    question_key_word_list=train_question_key_word_list[i]\n",
    "    sentence_key_word_list=train_sentence_key_word_list[i]\n",
    "    \n",
    "    question_vector=np.zeros(50).reshape(1,50)\n",
    "    sentence_vector=np.zeros(50).reshape(1,50)\n",
    "    for key_word in question_key_word_list:\n",
    "        if(key_word in list(word_vector.keys())):\n",
    "            question_vector+=np.array(word_vector[key_word])\n",
    "    \n",
    "    for key_word in sentence_key_word_list:\n",
    "        if(key_word in list(word_vector.keys())):\n",
    "            sentence_vector+=np.array(word_vector[key_word])\n",
    "    \n",
    "    question_vector=question_vector/len(question_key_word_list)\n",
    "    sentence_vector=sentence_vector/len(sentence_key_word_list)\n",
    "    similarity=similarityCalu(question_vector,sentence_vector)\n",
    "    train_similarity_list.append(similarity)\n",
    "\n"
   ]
  },
  {
   "cell_type": "markdown",
   "metadata": {},
   "source": [
    "#### 输出训练集里若干question和sentence的label和similarity，可以看出，其中大部分label为1的样本中的question和sentence的相似度较高，但是有些样本也存在较大的误差，原因可能有关键词提取算法的准确率不高，利用word2vec去表示文本向量丢失了语序的信息等。"
   ]
  },
  {
   "cell_type": "code",
   "execution_count": 75,
   "metadata": {
    "collapsed": true
   },
   "outputs": [
    {
     "name": "stdout",
     "output_type": "stream",
     "text": [
      "0:[[0.77511843]]\n",
      "0:[[0.83539078]]\n",
      "0:[[0.77212875]]\n",
      "0:[[0.91001392]]\n",
      "1:[[0.72087496]]\n",
      "0:[[0.73439743]]\n",
      "1:[[0.92719373]]\n",
      "0:[[0.64957573]]\n",
      "1:[[0.88121706]]\n",
      "0:[[0.58780804]]\n",
      "1:[[0.73834107]]\n",
      "0:[[0.40204393]]\n",
      "0:[[0.79069444]]\n",
      "0:[[0.84316721]]\n",
      "1:[[0.75537416]]\n",
      "1:[[0.71607998]]\n",
      "0:[[0.62487291]]\n",
      "1:[[0.87506876]]\n",
      "1:[[0.8918911]]\n",
      "1:[[0.41706096]]\n",
      "0:[[0.7203359]]\n",
      "0:[[0.61063698]]\n",
      "0:[[0.86838121]]\n",
      "0:[[0.05222769]]\n",
      "1:[[0.65596135]]\n"
     ]
    }
   ],
   "source": [
    "train_labels=list(train_data.label)\n",
    "for i in range(25):\n",
    "    print(\"{}:{}\".format(train_labels[i],train_similarity_list[i]))\n"
   ]
  },
  {
   "cell_type": "code",
   "execution_count": 76,
   "metadata": {},
   "outputs": [],
   "source": [
    "#对测试集中的question和sentence转换为文本向量，并计算相似度。\n",
    "for i in range(len_of_test_set):\n",
    "    question_key_word_list=test_question_key_word_list[i]\n",
    "    sentence_key_word_list=test_sentence_key_word_list[i]\n",
    "    \n",
    "    question_vector=np.zeros(50).reshape(1,50)\n",
    "    sentence_vector=np.zeros(50).reshape(1,50)\n",
    "    for key_word in question_key_word_list:\n",
    "        if(key_word in list(word_vector.keys())):\n",
    "            question_vector+=np.array(word_vector[key_word])\n",
    "    \n",
    "    for key_word in sentence_key_word_list:\n",
    "        if(key_word in list(word_vector.keys())):\n",
    "            sentence_vector+=np.array(word_vector[key_word])\n",
    "    \n",
    "    question_vector=question_vector/len(question_key_word_list)\n",
    "    sentence_vector=sentence_vector/len(sentence_key_word_list)\n",
    "    similarity=similarityCalu(question_vector,sentence_vector)\n",
    "    test_similarity_list.append(similarity)"
   ]
  },
  {
   "cell_type": "code",
   "execution_count": 77,
   "metadata": {
    "collapsed": true
   },
   "outputs": [
    {
     "name": "stdout",
     "output_type": "stream",
     "text": [
      "1:[[0.0793699]]\n",
      "0:[[0.34891954]]\n",
      "0:[[0.57031847]]\n",
      "0:[[0.43868344]]\n",
      "1:[[0.67879063]]\n",
      "1:[[0.85360266]]\n",
      "1:[[0.76467934]]\n",
      "0:[[0.80065088]]\n",
      "1:[[0.87095117]]\n",
      "1:[[0.79076574]]\n",
      "1:[[0.70992501]]\n",
      "0:[[0.67988949]]\n",
      "0:[[0.64975593]]\n",
      "1:[[0.63625762]]\n",
      "0:[[0.56280119]]\n",
      "1:[[0.83488512]]\n",
      "1:[[0.55215127]]\n",
      "1:[[0.86149988]]\n",
      "1:[[0.41972144]]\n",
      "0:[[0.72085461]]\n",
      "0:[[0.54171223]]\n",
      "1:[[0.84272321]]\n",
      "0:[[0.70869726]]\n",
      "0:[[0.63224769]]\n",
      "0:[[0.77512496]]\n"
     ]
    }
   ],
   "source": [
    "test_labels=list(test_data.label)\n",
    "for i in range(25):\n",
    "    print(\"{}:{}\".format(test_labels[i],test_similarity_list[i]))\n"
   ]
  },
  {
   "cell_type": "markdown",
   "metadata": {},
   "source": [
    "### 利用相似度作为判断依据，根据传统机器学习算法训练模型对测试集进行预测"
   ]
  },
  {
   "cell_type": "code",
   "execution_count": 124,
   "metadata": {},
   "outputs": [],
   "source": [
    "from sklearn.tree import DecisionTreeClassifier  #决策树\n",
    "from sklearn.linear_model import LogisticRegression #logistic回归\n",
    "from sklearn.svm import SVC, LinearSVC   #SVC\n",
    "from sklearn.ensemble import RandomForestClassifier  #随机森林\n",
    "from sklearn.naive_bayes import GaussianNB   #朴素贝叶斯"
   ]
  },
  {
   "cell_type": "markdown",
   "metadata": {},
   "source": [
    "### 准备数据，去除数据中的nan"
   ]
  },
  {
   "cell_type": "code",
   "execution_count": 136,
   "metadata": {},
   "outputs": [],
   "source": [
    "X=pd.DataFrame({'similarity':train_similarity_list})\n",
    "y_label=np.array(train_labels)\n",
    "X_test=pd.DataFrame({'similarity':test_similarity_list})"
   ]
  },
  {
   "cell_type": "code",
   "execution_count": 137,
   "metadata": {},
   "outputs": [],
   "source": [
    "for i,row in X.iterrows():\n",
    "        if(np.isnan(row['similarity'])):\n",
    "            row['similarity']=0\n",
    "X.to_csv('C:/Users/xx/Desktop/train_set_similarity.csv', index=True)"
   ]
  },
  {
   "cell_type": "code",
   "execution_count": 138,
   "metadata": {},
   "outputs": [],
   "source": [
    "for i,row in X_test.iterrows():\n",
    "        if(np.isnan(row['similarity'])):\n",
    "            row['similarity']=0\n",
    "X_test.to_csv('C:/Users/xx/Desktop/test_set_similarity.csv', index=True)"
   ]
  },
  {
   "cell_type": "markdown",
   "metadata": {},
   "source": [
    "### logistic回归"
   ]
  },
  {
   "cell_type": "code",
   "execution_count": 139,
   "metadata": {},
   "outputs": [
    {
     "name": "stderr",
     "output_type": "stream",
     "text": [
      "E:\\Anaconda3\\lib\\site-packages\\sklearn\\linear_model\\logistic.py:432: FutureWarning: Default solver will be changed to 'lbfgs' in 0.22. Specify a solver to silence this warning.\n",
      "  FutureWarning)\n"
     ]
    }
   ],
   "source": [
    "LR = LogisticRegression()\n",
    "##训练\n",
    "LR.fit(X,y_label)\n",
    "##预测\n",
    "LR_prediction = LR.predict(X_test)\n",
    "output1 = pd.DataFrame({'label': LR_prediction})\n",
    "output1.to_csv('C:/Users/xx/Desktop/LR_submission.csv', index=True)"
   ]
  },
  {
   "cell_type": "code",
   "execution_count": 140,
   "metadata": {},
   "outputs": [
    {
     "name": "stdout",
     "output_type": "stream",
     "text": [
      "logistic regression准确率：0.55875\n"
     ]
    }
   ],
   "source": [
    "pred=np.array(output1.label)\n",
    "ground_truth=np.array(test_labels)\n",
    "res = (ground_truth == pred)\n",
    "acc = res.sum()/len(res)\n",
    "print(\"logistic regression准确率：{}\".format(acc))"
   ]
  },
  {
   "cell_type": "markdown",
   "metadata": {},
   "source": [
    "### 决策树"
   ]
  },
  {
   "cell_type": "code",
   "execution_count": 141,
   "metadata": {},
   "outputs": [],
   "source": [
    "decision_tree = DecisionTreeClassifier()\n",
    "decision_tree.fit(X, y_label)\n",
    "DT_prediction = decision_tree.predict(X_test)\n",
    "output2 = pd.DataFrame({ 'label': DT_prediction})\n",
    "output2.to_csv('C:/Users/xx/Desktop/DT_submission.csv', index=True)"
   ]
  },
  {
   "cell_type": "code",
   "execution_count": 142,
   "metadata": {},
   "outputs": [
    {
     "name": "stdout",
     "output_type": "stream",
     "text": [
      "决策树准确率：0.518125\n"
     ]
    }
   ],
   "source": [
    "pred=np.array(output2.label)\n",
    "ground_truth=np.array(test_labels)\n",
    "res = (ground_truth == pred)\n",
    "acc = res.sum()/len(res)\n",
    "print(\"决策树准确率：{}\".format(acc))"
   ]
  },
  {
   "cell_type": "markdown",
   "metadata": {},
   "source": [
    "### SVC"
   ]
  },
  {
   "cell_type": "code",
   "execution_count": 143,
   "metadata": {},
   "outputs": [
    {
     "name": "stderr",
     "output_type": "stream",
     "text": [
      "E:\\Anaconda3\\lib\\site-packages\\sklearn\\svm\\base.py:193: FutureWarning: The default value of gamma will change from 'auto' to 'scale' in version 0.22 to account better for unscaled features. Set gamma explicitly to 'auto' or 'scale' to avoid this warning.\n",
      "  \"avoid this warning.\", FutureWarning)\n"
     ]
    }
   ],
   "source": [
    "svc = SVC()\n",
    "svc.fit(X, y_label)\n",
    "SVC_prediction = svc.predict(X_test)\n",
    "output3 = pd.DataFrame({'label':SVC_prediction})\n",
    "output3.to_csv('C:/Users/xx/Desktop/SVC_submission.csv', index=True)"
   ]
  },
  {
   "cell_type": "code",
   "execution_count": 144,
   "metadata": {},
   "outputs": [
    {
     "name": "stdout",
     "output_type": "stream",
     "text": [
      "SVC准确率：0.569375\n"
     ]
    }
   ],
   "source": [
    "pred=np.array(output3.label)\n",
    "ground_truth=np.array(test_labels)\n",
    "res = (ground_truth == pred)\n",
    "acc = res.sum()/len(res)\n",
    "print(\"SVC准确率：{}\".format(acc))"
   ]
  },
  {
   "cell_type": "markdown",
   "metadata": {},
   "source": [
    "### RFC"
   ]
  },
  {
   "cell_type": "code",
   "execution_count": 145,
   "metadata": {},
   "outputs": [],
   "source": [
    "RFCmodel = RandomForestClassifier(n_estimators=100, max_depth=2, random_state=1)\n",
    "RFCmodel.fit(X, y_label)\n",
    "predictions = RFCmodel.predict(X_test)\n",
    "\n",
    "output4 = pd.DataFrame({'label': predictions})\n",
    "output4.to_csv('C:/Users/xx/Desktop/RFC_submission.csv', index=True)"
   ]
  },
  {
   "cell_type": "code",
   "execution_count": 146,
   "metadata": {},
   "outputs": [
    {
     "name": "stdout",
     "output_type": "stream",
     "text": [
      "RFC准确率：0.565\n"
     ]
    }
   ],
   "source": [
    "pred=np.array(output4.label)\n",
    "ground_truth=np.array(test_labels)\n",
    "res = (ground_truth == pred)\n",
    "acc = res.sum()/len(res)\n",
    "print(\"RFC准确率：{}\".format(acc))"
   ]
  },
  {
   "cell_type": "markdown",
   "metadata": {},
   "source": [
    "### 朴素贝叶斯"
   ]
  },
  {
   "cell_type": "code",
   "execution_count": 147,
   "metadata": {},
   "outputs": [],
   "source": [
    "clf = GaussianNB()\n",
    "clf.fit(X, y_label)\n",
    "predictions = clf.predict(X_test)\n",
    "output5 = pd.DataFrame({'label': predictions})\n",
    "output5.to_csv('C:/Users/xx/Desktop/Naive_bayes_submission.csv', index=True)"
   ]
  },
  {
   "cell_type": "code",
   "execution_count": 148,
   "metadata": {},
   "outputs": [
    {
     "name": "stdout",
     "output_type": "stream",
     "text": [
      "朴素贝叶斯准确率：0.55875\n"
     ]
    }
   ],
   "source": [
    "pred=np.array(output5.label)\n",
    "ground_truth=np.array(test_labels)\n",
    "res = (ground_truth == pred)\n",
    "acc = res.sum()/len(res)\n",
    "print(\"朴素贝叶斯准确率：{}\".format(acc))"
   ]
  },
  {
   "cell_type": "code",
   "execution_count": null,
   "metadata": {},
   "outputs": [],
   "source": []
  }
 ],
 "metadata": {
  "kernelspec": {
   "display_name": "Python 3",
   "language": "python",
   "name": "python3"
  },
  "language_info": {
   "codemirror_mode": {
    "name": "ipython",
    "version": 3
   },
   "file_extension": ".py",
   "mimetype": "text/x-python",
   "name": "python",
   "nbconvert_exporter": "python",
   "pygments_lexer": "ipython3",
   "version": "3.7.3"
  }
 },
 "nbformat": 4,
 "nbformat_minor": 2
}
